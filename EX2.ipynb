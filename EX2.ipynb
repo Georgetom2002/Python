{
 "cells": [
  {
   "cell_type": "code",
   "execution_count": 1,
   "id": "85f23e06",
   "metadata": {},
   "outputs": [
    {
     "name": "stdout",
     "output_type": "stream",
     "text": [
      "Datatype of variable F is <class 'float'>\n"
     ]
    }
   ],
   "source": [
    "f=3.14\n",
    "print('Datatype of variable F is',type(f))"
   ]
  },
  {
   "cell_type": "code",
   "execution_count": 3,
   "id": "f71f6394",
   "metadata": {},
   "outputs": [
    {
     "name": "stdout",
     "output_type": "stream",
     "text": [
      "2 \n",
      "4 \n",
      "6 \n",
      "8 \n",
      "10 \n",
      "12 \n",
      "14 \n",
      "16 \n",
      "18 \n",
      "20 \n"
     ]
    }
   ],
   "source": [
    "count=0\n",
    "for i in range(2,50):\n",
    "    if(i%2==0):\n",
    "        print(i,'')\n",
    "        count=count+1\n",
    "        if(count>=10):\n",
    "            break"
   ]
  },
  {
   "cell_type": "markdown",
   "id": "de4e5c10",
   "metadata": {},
   "source": [
    "v=int(input('Enter the Integer Value'))\n",
    "if v>=60:\n",
    "    print(\"The given Value is greater than 60\")\n",
    "else:\n",
    "    print(\"The given Value is lesser than 60\")"
   ]
  },
  {
   "cell_type": "code",
   "execution_count": 5,
   "id": "1a0ac1fe",
   "metadata": {},
   "outputs": [
    {
     "name": "stdout",
     "output_type": "stream",
     "text": [
      "Enter the Integer Value66\n",
      "The given Value is greater than 60\n"
     ]
    }
   ],
   "source": [
    "v=int(input('Enter the Integer Value')) \n",
    "if v>=60: \n",
    "    print(\"The given Value is greater than 60\")\n",
    "else: \n",
    "    print(\"The given Value is lesser than 60\")\n",
    "\n"
   ]
  },
  {
   "cell_type": "code",
   "execution_count": 6,
   "id": "58e7c404",
   "metadata": {},
   "outputs": [
    {
     "name": "stdout",
     "output_type": "stream",
     "text": [
      "X1: 50 Y1: 50 Z1: 50 W1: 50\n"
     ]
    }
   ],
   "source": [
    "x1=y1=z1=w1=50\n",
    "print('X1:',x1,'Y1:',y1,'Z1:',z1,'W1:',w1)"
   ]
  },
  {
   "cell_type": "code",
   "execution_count": 7,
   "id": "02349c59",
   "metadata": {},
   "outputs": [
    {
     "name": "stdout",
     "output_type": "stream",
     "text": [
      "Enter the value6\n",
      "It is divisible by 2\n"
     ]
    }
   ],
   "source": [
    "n=int(input(\"Enter the value\"))\n",
    "if(n%2==0):\n",
    "    print('It is divisible by 2')\n",
    "elif(n%3==0):\n",
    "    print('It is divisible by 3')\n",
    "else:\n",
    "    print('It is not divisible by 2 and 3')"
   ]
  },
  {
   "cell_type": "code",
   "execution_count": 8,
   "id": "d05e224e",
   "metadata": {},
   "outputs": [
    {
     "name": "stdout",
     "output_type": "stream",
     "text": [
      "Enter the principle amount:10000\n",
      "Enter the number of years:4\n",
      "Enter the RAte of Interest:200\n",
      "Simple Interest: 80000.0\n"
     ]
    }
   ],
   "source": [
    "def SI(p,n,r):\n",
    "    I=(p*n*r)/100\n",
    "    print('Simple Interest:',I)\n",
    "p=int(input('Enter the principle amount:'))\n",
    "n=int(input('Enter the number of years:'))\n",
    "r=int(input('Enter the RAte of Interest:'))\n",
    "SI(p,n,r)"
   ]
  },
  {
   "cell_type": "code",
   "execution_count": 9,
   "id": "2987ff4e",
   "metadata": {},
   "outputs": [
    {
     "name": "stdout",
     "output_type": "stream",
     "text": [
      "Integer value: 50\n",
      "String value: PEO\n",
      "Floating value: 3.14\n"
     ]
    }
   ],
   "source": [
    "x,y,z=50,'PEO',3.14\n",
    "print('Integer value:',x)\n",
    "print('String value:',y)\n",
    "print('Floating value:',z)"
   ]
  },
  {
   "cell_type": "code",
   "execution_count": 10,
   "id": "487b1c48",
   "metadata": {},
   "outputs": [
    {
     "name": "stdout",
     "output_type": "stream",
     "text": [
      "Enter a value:67\n",
      "VERY GOOD\n"
     ]
    }
   ],
   "source": [
    "val=int(input('Enter a value:'))\n",
    "if val<=40:\n",
    "    print('AVERAGE')\n",
    "elif val>40 and val<=50:\n",
    "    print('GOOD')\n",
    "else:\n",
    "    print('VERY GOOD')"
   ]
  },
  {
   "cell_type": "code",
   "execution_count": 11,
   "id": "333834d5",
   "metadata": {},
   "outputs": [
    {
     "name": "stdout",
     "output_type": "stream",
     "text": [
      "Enter a number:5\n",
      "The factorial of given number= 120\n"
     ]
    }
   ],
   "source": [
    "def fact(n):\n",
    "    if n==0 or n==1:\n",
    "        return 1\n",
    "    else:\n",
    "        result=1\n",
    "        for i in range(2,n+1):\n",
    "            result=result*i\n",
    "        return result\n",
    "num=int(input('Enter a number:'))\n",
    "print('The factorial of given number=',fact(num))"
   ]
  },
  {
   "cell_type": "code",
   "execution_count": 12,
   "id": "d3f78003",
   "metadata": {},
   "outputs": [
    {
     "name": "stdout",
     "output_type": "stream",
     "text": [
      "100\n"
     ]
    },
    {
     "ename": "NameError",
     "evalue": "name 'z' is not defined",
     "output_type": "error",
     "traceback": [
      "\u001b[1;31m---------------------------------------------------------------------------\u001b[0m",
      "\u001b[1;31mNameError\u001b[0m                                 Traceback (most recent call last)",
      "\u001b[1;32m~\\AppData\\Local\\Temp\\ipykernel_11088\\2414369006.py\u001b[0m in \u001b[0;36m<module>\u001b[1;34m\u001b[0m\n\u001b[0;32m      2\u001b[0m \u001b[0mprint\u001b[0m\u001b[1;33m(\u001b[0m\u001b[0mz\u001b[0m\u001b[1;33m)\u001b[0m\u001b[1;33m\u001b[0m\u001b[1;33m\u001b[0m\u001b[0m\n\u001b[0;32m      3\u001b[0m \u001b[1;32mdel\u001b[0m \u001b[0mz\u001b[0m\u001b[1;33m\u001b[0m\u001b[1;33m\u001b[0m\u001b[0m\n\u001b[1;32m----> 4\u001b[1;33m \u001b[0mprint\u001b[0m\u001b[1;33m(\u001b[0m\u001b[0mz\u001b[0m\u001b[1;33m)\u001b[0m\u001b[1;33m\u001b[0m\u001b[1;33m\u001b[0m\u001b[0m\n\u001b[0m",
      "\u001b[1;31mNameError\u001b[0m: name 'z' is not defined"
     ]
    }
   ],
   "source": [
    "z=100\n",
    "print(z)\n",
    "del z\n",
    "print(z)"
   ]
  },
  {
   "cell_type": "code",
   "execution_count": 14,
   "id": "4784722c",
   "metadata": {},
   "outputs": [
    {
     "name": "stdout",
     "output_type": "stream",
     "text": [
      "Enter the value of A5\n",
      "Enter the value of B6\n",
      "Enter the value of C7\n",
      "C is bigger\n"
     ]
    }
   ],
   "source": [
    "a=int(input('Enter the value of A'))\n",
    "b=int(input('Enter the value of B'))\n",
    "c=int(input('Enter the value of C'))\n",
    "if a>b and a>c:\n",
    "    print('A is bigger')\n",
    "elif b>c:\n",
    "    print('B is bigger')\n",
    "else:\n",
    "    print('C is bigger')"
   ]
  },
  {
   "cell_type": "code",
   "execution_count": 16,
   "id": "c84d2c8a",
   "metadata": {},
   "outputs": [
    {
     "name": "stdout",
     "output_type": "stream",
     "text": [
      "Enter the number:5\n",
      "Sum of Series  5 is  15\n"
     ]
    }
   ],
   "source": [
    "def series(n):\n",
    "    sum=0\n",
    "    i=1\n",
    "    while i<=n:\n",
    "        sum=sum+i\n",
    "        i=i+1\n",
    "    return sum\n",
    "n=int(input('Enter the number:'))\n",
    "print('Sum of Series ',n,'is ',series(n))"
   ]
  },
  {
   "cell_type": "code",
   "execution_count": null,
   "id": "c587a322",
   "metadata": {},
   "outputs": [],
   "source": []
  }
 ],
 "metadata": {
  "kernelspec": {
   "display_name": "Python 3 (ipykernel)",
   "language": "python",
   "name": "python3"
  },
  "language_info": {
   "codemirror_mode": {
    "name": "ipython",
    "version": 3
   },
   "file_extension": ".py",
   "mimetype": "text/x-python",
   "name": "python",
   "nbconvert_exporter": "python",
   "pygments_lexer": "ipython3",
   "version": "3.9.13"
  }
 },
 "nbformat": 4,
 "nbformat_minor": 5
}
