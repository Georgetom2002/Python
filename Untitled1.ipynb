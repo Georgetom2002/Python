{
 "cells": [
  {
   "cell_type": "code",
   "execution_count": null,
   "id": "c5191ef0",
   "metadata": {},
   "outputs": [
    {
     "name": "stdout",
     "output_type": "stream",
     "text": [
      "     STRING FUNCTIONS    \n",
      "1.Convert the given string into Uppercase\n",
      "2.Convert the given string into Lowercase\n",
      "3.Convert the given string into Swapcase\n",
      "4.Convert the given string into Reverse of the string\n",
      "5.Find the length of the string\n",
      "6.Convert the given string into Title format\n",
      "7.Check the given string is Alphabetic\n",
      "8.Check the given string is Lowercase or not\n",
      "9.Check the given string is Uppercase or not\n",
      "10.Check the given string is title format or not\n",
      "Enter your Choice5\n",
      "Enter the stringgeor\n",
      "4\n"
     ]
    }
   ],
   "source": [
    "print(\"     STRING FUNCTIONS    \")\n",
    "print(\"1.Convert the given string into Uppercase\")\n",
    "print(\"2.Convert the given string into Lowercase\")\n",
    "print(\"3.Convert the given string into Swapcase\")\n",
    "print(\"4.Convert the given string into Reverse of the string\")\n",
    "print(\"5.Find the length of the string\")\n",
    "print(\"6.Convert the given string into Title format\")\n",
    "print(\"7.Check the given string is Alphabetic\")\n",
    "print(\"8.Check the given string is Lowercase or not\")\n",
    "print(\"9.Check the given string is Uppercase or not\")\n",
    "print(\"10.Check the given string is title format or not\")\n",
    "while True:\n",
    "    a=int(input(\"Enter your Choice\"))\n",
    "    s=input(\"Enter the string\")\n",
    "    if a==1:\n",
    "        print(s.upper())\n",
    "    elif a==2:\n",
    "        print(s.lower())\n",
    "    elif a==3:\n",
    "        print(s.swapcase())\n",
    "    elif a==4:\n",
    "        print(s[::-1])\n",
    "    elif a==5:\n",
    "        print(len(s))\n",
    "    elif a==6:\n",
    "        print(s.title())\n",
    "    elif a==7:\n",
    "        print(s.isalpha())\n",
    "    elif a==8:\n",
    "        print(s.islower())\n",
    "    elif a==9:\n",
    "        print(s.isupper())\n",
    "    elif a==10:\n",
    "        print(s.title())\n",
    "    else:\n",
    "        print('Enter a valid option')\n",
    "rep=input('Do you want to continue?(Yes/No):')\n",
    "if rep.lower()=='yes':\n",
    "    continue\n",
    "else:\n",
    "    break"
   ]
  },
  {
   "cell_type": "code",
   "execution_count": null,
   "id": "92a8fb3d",
   "metadata": {},
   "outputs": [],
   "source": []
  },
  {
   "cell_type": "code",
   "execution_count": null,
   "id": "f33d51f1",
   "metadata": {},
   "outputs": [],
   "source": []
  }
 ],
 "metadata": {
  "kernelspec": {
   "display_name": "Python 3 (ipykernel)",
   "language": "python",
   "name": "python3"
  },
  "language_info": {
   "codemirror_mode": {
    "name": "ipython",
    "version": 3
   },
   "file_extension": ".py",
   "mimetype": "text/x-python",
   "name": "python",
   "nbconvert_exporter": "python",
   "pygments_lexer": "ipython3",
   "version": "3.9.13"
  }
 },
 "nbformat": 4,
 "nbformat_minor": 5
}
