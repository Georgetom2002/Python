{
 "cells": [
  {
   "cell_type": "code",
   "execution_count": 1,
   "id": "8eb805d0",
   "metadata": {},
   "outputs": [
    {
     "name": "stdout",
     "output_type": "stream",
     "text": [
      "LEARNING python IS fUN\n",
      "Learning python is fun. we really enjoyed it.\n",
      "Learning Python Is Fun. We Really Enjoyed It.\n",
      "learning python is fun\n",
      "learning python is fun\n",
      "learning pyhton is fun\n"
     ]
    }
   ],
   "source": [
    "s=\"learning PYTHON is Fun\"\n",
    "print(s.swapcase())\n",
    "s=\"learning python is fun. we really enjoyed it.\"\n",
    "print(s.capitalize())\n",
    "print(s.title())\n",
    "s=\"     learning python is fun\"\n",
    "print(s.lstrip())\n",
    "s=\"learning python is fun\"\n",
    "print(s.rstrip('*'))\n",
    "s=\"$$$$learning pyhton is fun$$$\"\n",
    "print(s.strip('$'))"
   ]
  },
  {
   "cell_type": "code",
   "execution_count": 2,
   "id": "995171cb",
   "metadata": {},
   "outputs": [
    {
     "name": "stdout",
     "output_type": "stream",
     "text": [
      "Thwas was very new.Thwas was good\n",
      "Thwas was very new.This is good\n"
     ]
    }
   ],
   "source": [
    "s=\"This is very new.This is good\"\n",
    "print(s.replace('is','was'))\n",
    "print(s.replace('is','was',2))"
   ]
  },
  {
   "cell_type": "code",
   "execution_count": 4,
   "id": "48b5499f",
   "metadata": {},
   "outputs": [
    {
     "name": "stdout",
     "output_type": "stream",
     "text": [
      "Thwas was very new.Thwas was good\n",
      "Thwas was very new.This is good\n"
     ]
    }
   ],
   "source": [
    "s=\"This is very new.This is good\"\n",
    "print(s.replace('is','was'))\n",
    "print(s.replace('is','was',2))"
   ]
  },
  {
   "cell_type": "code",
   "execution_count": 2,
   "id": "63d4e8f8",
   "metadata": {},
   "outputs": [
    {
     "name": "stdout",
     "output_type": "stream",
     "text": [
      "***********This is programming\n",
      "This is programming$$$$$$$$$$$\n",
      "0001\n"
     ]
    }
   ],
   "source": [
    "s=\"This is programming\"\n",
    "print(s.rjust(30,'*'))\n",
    "print(s.ljust(30,'$'))\n",
    "s=\"1\"\n",
    "print(s.zfill(4))"
   ]
  },
  {
   "cell_type": "code",
   "execution_count": null,
   "id": "db66f18d",
   "metadata": {},
   "outputs": [],
   "source": []
  }
 ],
 "metadata": {
  "kernelspec": {
   "display_name": "Python 3 (ipykernel)",
   "language": "python",
   "name": "python3"
  },
  "language_info": {
   "codemirror_mode": {
    "name": "ipython",
    "version": 3
   },
   "file_extension": ".py",
   "mimetype": "text/x-python",
   "name": "python",
   "nbconvert_exporter": "python",
   "pygments_lexer": "ipython3",
   "version": "3.9.13"
  }
 },
 "nbformat": 4,
 "nbformat_minor": 5
}
